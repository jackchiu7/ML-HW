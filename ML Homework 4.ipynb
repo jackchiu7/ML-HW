{
 "cells": [
  {
   "cell_type": "markdown",
   "metadata": {},
   "source": [
    "# k-NN Classification Using 2-D Features"
   ]
  },
  {
   "cell_type": "code",
   "execution_count": 2,
   "metadata": {},
   "outputs": [
    {
     "data": {
      "text/plain": [
       "Text(0.5,1,'Training Data')"
      ]
     },
     "execution_count": 2,
     "metadata": {},
     "output_type": "execute_result"
    },
    {
     "data": {
      "image/png": "[encoded data removed]",
      "text/plain": [
       "<matplotlib.figure.Figure at 0x2025a0ed7f0>"
      ]
     },
     "metadata": {},
     "output_type": "display_data"
    }
   ],
   "source": [
    "from sklearn.datasets import load_digits\n",
    "import matplotlib.pyplot as plt\n",
    "import numpy as np\n",
    "\n",
    "images, labels = load_digits(2, return_X_y=True)\n",
    "\n",
    "\n",
    "trainImgs = images[:300]\n",
    "trainLabels = labels[:300]\n",
    "\n",
    "testImgs = images[300:]\n",
    "testLabels = labels[300:]\n",
    "\n",
    "m = np.mean(trainImgs.T,1)\n",
    "m = m.reshape(64,1)\n",
    "\n",
    "Xcent = trainImgs.T - m\n",
    "covX = np.cov(Xcent)\n",
    "vals, vects = np.linalg.eig(covX)\n",
    "inds = vals.argsort()[-2:][::-1]\n",
    "\n",
    "\n",
    "u1 = np.reshape(vects[:,inds[0]],(64,1))\n",
    "u2 = np.reshape(vects[:,inds[1]],(64,1))\n",
    "U = np.concatenate((u1,u2),1)\n",
    "\n",
    "\n",
    "trainClasses = np.matmul(trainImgs, U)\n",
    "\n",
    "fig, axes = plt.subplots(1, 1,figsize=(5,5))\n",
    "\n",
    "for i in range(0,len(trainLabels)):    \n",
    "    if(trainLabels[i]==0):\n",
    "        axes.plot(trainClasses[i,0],trainClasses[i,1],'ro',markersize = 2)\n",
    "    elif(trainLabels[i] ==1):\n",
    "        axes.plot(trainClasses[i,0],trainClasses[i,1],'go',markersize = 2)\n",
    "\n",
    "axes.set_title('Training Data')"
   ]
  },
  {
   "cell_type": "code",
   "execution_count": 3,
   "metadata": {},
   "outputs": [
    {
     "data": {
      "text/plain": [
       "Text(0.5,1,'Test Data')"
      ]
     },
     "execution_count": 3,
     "metadata": {},
     "output_type": "execute_result"
    },
    {
     "data": {
      "image/png": "[encoded data removed]",
      "text/plain": [
       "<matplotlib.figure.Figure at 0x2025a0ed550>"
      ]
     },
     "metadata": {},
     "output_type": "display_data"
    }
   ],
   "source": [
    "def dist(pt1, pt2):\n",
    "    distance = 0\n",
    "    for i in range(0,len(pt1)):\n",
    "        distance += np.square(pt1[i]-pt2[i])\n",
    "    return np.sqrt(distance)\n",
    "\n",
    "k = 5\n",
    "testPts = np.matmul(testImgs,U)\n",
    "testLabelPredict = []\n",
    "for testPt in testPts:\n",
    "    distandlabel = []\n",
    "    for i in range(0,len(trainClasses)):\n",
    "        distandlabel.append((dist(trainClasses[i], testPt),trainLabels[i]))\n",
    "    \n",
    "    distandlabel.sort(key=lambda tup: tup[0]) \n",
    "    \n",
    "    lowestK = np.array(distandlabel[:k])\n",
    "    \n",
    "    prediction = 0\n",
    "    if (sum(lowestK[:,1]) > 2 ):\n",
    "        prediction = 1\n",
    "        \n",
    "    testLabelPredict.append(prediction)\n",
    "\n",
    "    \n",
    "fig, axes = plt.subplots(1, 1,figsize=(5,5))\n",
    "for i in range(0,len(testPts)):    \n",
    "    if(testLabelPredict[i]- testLabels[i] ==0):\n",
    "        axes.plot(testPts[i,0],testPts[i,1],'bo', markersize = 2)\n",
    "    else:\n",
    "        axes.plot(testPts[i,0],testPts[i,1],'ko', markersize = 2)\n",
    "\n",
    "axes.set_title('Test Data')"
   ]
  },
  {
   "cell_type": "code",
   "execution_count": 4,
   "metadata": {},
   "outputs": [
    {
     "data": {
      "text/plain": [
       "Text(0.5,1,'Average Classification Error')"
      ]
     },
     "execution_count": 4,
     "metadata": {},
     "output_type": "execute_result"
    },
    {
     "data": {
      "image/png": "[encoded data removed]",
      "text/plain": [
       "<matplotlib.figure.Figure at 0x2025a5475f8>"
      ]
     },
     "metadata": {},
     "output_type": "display_data"
    }
   ],
   "source": [
    "def kNN(k,testPts, trainLabels, trainClasses):\n",
    "    testLabelPredict = []\n",
    "    for testPt in testPts:\n",
    "        distandlabel = []\n",
    "        for i in range(0,len(trainClasses)):\n",
    "            distandlabel.append((dist(trainClasses[i], testPt),trainLabels[i]))\n",
    "            \n",
    "        distandlabel.sort(key=lambda tup: tup[0]) \n",
    "    \n",
    "        lowestK = np.array(distandlabel[:k])\n",
    "    \n",
    "        prediction = 0\n",
    "        if (sum(lowestK[:,1]) > 2 ):\n",
    "            prediction = 1\n",
    "        \n",
    "        testLabelPredict.append(prediction)\n",
    "    \n",
    "    return testLabelPredict\n",
    "\n",
    "\n",
    "testPts = np.matmul(testImgs,U)\n",
    "nums = []\n",
    "kVals = np.array(range(1,len(testPts)+1))\n",
    "for k in kVals:\n",
    "    predictedVals = kNN(k, testPts,trainLabels, trainClasses)\n",
    "    error = predictedVals-testLabels\n",
    "    nums.append((float)(sum([abs(num) for num in error]))/len(testPts))\n",
    "\n",
    "fig, axes = plt.subplots(1, 1,figsize=(5,5))\n",
    "axes.plot(kVals, nums)\n",
    "axes.set_xlabel('k')\n",
    "axes.set_title('Average Classification Error')"
   ]
  },
  {
   "cell_type": "markdown",
   "metadata": {},
   "source": [
    "# k-NN Classification Using Higher-dimensional Features\n"
   ]
  },
  {
   "cell_type": "code",
   "execution_count": 5,
   "metadata": {},
   "outputs": [
    {
     "name": "stdout",
     "output_type": "stream",
     "text": [
      "Need top 20 principal components to capture 95% of variation\n"
     ]
    }
   ],
   "source": [
    "variation = 0\n",
    "covX = np.cov(Xcent)\n",
    "vals, vects = np.linalg.eig(covX)\n",
    "sumEig = sum(vals)\n",
    "f = 1\n",
    "while variation < .95:\n",
    "    inds = vals.argsort()[-f:][::-1]\n",
    "    U = np.reshape(vects[:,inds[0]],(64,1))\n",
    "    for i in range (1,f):\n",
    "        uTemp = np.reshape(vects[:,inds[i]],(64,1))\n",
    "        U = np.concatenate((U,uTemp),1)\n",
    "        \n",
    "    tempSum = 0\n",
    "    for i in inds:\n",
    "        tempSum+= vals[i]\n",
    "    variation = tempSum/sumEig\n",
    "    f += 1\n",
    "\n",
    "print('Need top',f,'principal components to capture 95% of variation')"
   ]
  },
  {
   "cell_type": "code",
   "execution_count": 7,
   "metadata": {},
   "outputs": [
    {
     "data": {
      "text/plain": [
       "Text(0.5,1,'Average Classification Error for 20 Principal Components')"
      ]
     },
     "execution_count": 7,
     "metadata": {},
     "output_type": "execute_result"
    },
    {
     "data": {
      "image/png": "[encoded data removed]",
      "text/plain": [
       "<matplotlib.figure.Figure at 0x2025a3f78d0>"
      ]
     },
     "metadata": {},
     "output_type": "display_data"
    }
   ],
   "source": [
    "trainClasses = np.matmul(trainImgs, U)\n",
    "testPts = np.matmul(testImgs,U)\n",
    "kVals = [1,3,5,7,9]\n",
    "classErrors = []\n",
    "for k in kVals:\n",
    "    predictions = kNN(k, testPts,trainLabels, trainClasses)\n",
    "    error = predictions - testLabels\n",
    "    tempSum = sum([abs(num) for num in error])/len(error)\n",
    "    classErrors.append(tempSum)\n",
    "\n",
    "\n",
    "fig, axes = plt.subplots(1, 1,figsize=(5,5))\n",
    "axes.plot(kVals, classErrors)\n",
    "axes.set_xlabel('k')\n",
    "title = 'Average Classification Error for '+ str(f) + ' Principal Components'\n",
    "axes.set_title(title)"
   ]
  },
  {
   "cell_type": "markdown",
   "metadata": {},
   "source": [
    "For future k-NN classification of digits '0' and '1', I would recommend a $k\\geq 3$. In this case, to optimize based on time, it would be best to use $k=3$. This stems from the previous plot for 20 principal components showing that the average classification error is $0$ when $k=3$. Likewise, for the plot of $k = 1:60$, the error is $0$ starting at $k = 3$. "
   ]
  },
  {
   "cell_type": "code",
   "execution_count": null,
   "metadata": {},
   "outputs": [],
   "source": []
  }
 ],
 "metadata": {
  "kernelspec": {
   "display_name": "Python 3",
   "language": "python",
   "name": "python3"
  },
  "language_info": {
   "codemirror_mode": {
    "name": "ipython",
    "version": 3
   },
   "file_extension": ".py",
   "mimetype": "text/x-python",
   "name": "python",
   "nbconvert_exporter": "python",
   "pygments_lexer": "ipython3",
   "version": "3.6.4"
  }
 },
 "nbformat": 4,
 "nbformat_minor": 2
}
